{
 "cells": [
  {
   "cell_type": "code",
   "execution_count": 4,
   "metadata": {
    "collapsed": false
   },
   "outputs": [
    {
     "name": "stdout",
     "output_type": "stream",
     "text": [
      "there's nothing\n"
     ]
    }
   ],
   "source": [
    "kcma = False\n",
    "football = False\n",
    "if kcma:\n",
    "    if football:\n",
    "        print('he is a real football star')\n",
    "    else:\n",
    "        print('he is a good student')\n",
    "else:\n",
    "    if football:\n",
    "        print('just a normal football')\n",
    "    else:\n",
    "        print('there\\'s nothing')"
   ]
  },
  {
   "cell_type": "code",
   "execution_count": 6,
   "metadata": {
    "collapsed": false
   },
   "outputs": [
    {
     "name": "stdout",
     "output_type": "stream",
     "text": [
      "london is red, london is ARSENAL\n"
     ]
    }
   ],
   "source": [
    "london = 'red'\n",
    "if london == 'red':\n",
    "    print('london is red, london is ARSENAL')\n",
    "elif london == 'blue':\n",
    "    print('but not blue this year')\n",
    "elif london == 'shit':\n",
    "    print('are you talking about tottenham?')\n",
    "else:\n",
    "    print('go google arsenal to find out what color london is')"
   ]
  },
  {
   "cell_type": "code",
   "execution_count": 20,
   "metadata": {
    "collapsed": false
   },
   "outputs": [
    {
     "name": "stdout",
     "output_type": "stream",
     "text": [
      "1\n",
      "2\n",
      "3\n",
      "4\n",
      "5\n",
      "6\n",
      "7\n",
      "8\n",
      "9\n",
      "10\n"
     ]
    }
   ],
   "source": [
    "count = 1\n",
    "while count <=10:\n",
    "    print(count)\n",
    "    count+=1"
   ]
  },
  {
   "cell_type": "code",
   "execution_count": 24,
   "metadata": {
    "collapsed": false
   },
   "outputs": [
    {
     "name": "stdout",
     "output_type": "stream",
     "text": [
      "enter yr lucky number[press q to exit]:1\n",
      "maybe next time\n",
      "enter yr lucky number[press q to exit]:2\n",
      "maybe next time\n",
      "enter yr lucky number[press q to exit]:q\n"
     ]
    }
   ],
   "source": [
    "while True:\n",
    "    a = input('enter yr lucky number[press q to exit]:')\n",
    "    if a == '12':\n",
    "        print('BINGO')\n",
    "        break\n",
    "    elif a == 'q':\n",
    "        break\n",
    "    else:\n",
    "        print('maybe next time')"
   ]
  },
  {
   "cell_type": "code",
   "execution_count": null,
   "metadata": {
    "collapsed": true
   },
   "outputs": [],
   "source": []
  }
 ],
 "metadata": {
  "kernelspec": {
   "display_name": "Python 3",
   "language": "python",
   "name": "python3"
  },
  "language_info": {
   "codemirror_mode": {
    "name": "ipython",
    "version": 3
   },
   "file_extension": ".py",
   "mimetype": "text/x-python",
   "name": "python",
   "nbconvert_exporter": "python",
   "pygments_lexer": "ipython3",
   "version": "3.4.3"
  }
 },
 "nbformat": 4,
 "nbformat_minor": 0
}
